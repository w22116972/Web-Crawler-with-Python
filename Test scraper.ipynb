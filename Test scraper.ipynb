{
 "cells": [
  {
   "cell_type": "markdown",
   "metadata": {},
   "source": [
    "# unittest\n",
    "\n",
    "- 提供```setUp```和```tearDown```在unit test的前後執行\n",
    "- 提供多個```assert```\n",
    "- 對所有function名稱開頭為```test_```的當作unit test來測試"
   ]
  },
  {
   "cell_type": "code",
   "execution_count": 4,
   "metadata": {},
   "outputs": [],
   "source": [
    "import unittest\n",
    "\n",
    "class TestAddition(unittest.TestCase):\n",
    "    def setUp(self):\n",
    "        print(\"setting up the test\")\n",
    "\n",
    "    def tearDown(self):\n",
    "        print(\"tear down the test\")\n",
    "\n",
    "    def test_two_plus_two(self):\n",
    "        total = 2+2\n",
    "        self.assertEqual(4, total)"
   ]
  },
  {
   "cell_type": "code",
   "execution_count": null,
   "metadata": {},
   "outputs": [],
   "source": [
    "from urllib.request import urlopen\n",
    "from bs4 import BeautifulSoup\n",
    "\n",
    "class TestWiki(unittest.TestCase):\n",
    "    bs4_obj = None\n",
    "    def setUpClass():\n",
    "        global bs4_obj\n",
    "        url = \"http://en.wikipedia.org/wiki/Monty_Python\"\n",
    "        bs4_obj = BeautifulSoup(urlopen(url))\n",
    "        "
   ]
  }
 ],
 "metadata": {
  "kernelspec": {
   "display_name": "Python 3",
   "language": "python",
   "name": "python3"
  },
  "language_info": {
   "codemirror_mode": {
    "name": "ipython",
    "version": 3
   },
   "file_extension": ".py",
   "mimetype": "text/x-python",
   "name": "python",
   "nbconvert_exporter": "python",
   "pygments_lexer": "ipython3",
   "version": "3.6.1"
  }
 },
 "nbformat": 4,
 "nbformat_minor": 2
}
