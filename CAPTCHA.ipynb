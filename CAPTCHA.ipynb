{
 "cells": [
  {
   "cell_type": "markdown",
   "metadata": {},
   "source": [
    "# Required Library\n",
    "\n",
    "## Tesseract\n",
    "> OCR library sponsored by Google\n",
    "\n",
    "不能用python裡import, 要從cmd執行才行\n",
    "\n",
    "#### 安裝\n",
    "```bash\n",
    "brew install tesseract\n",
    "export TESSDATA_PREFIX=/usr/local/share/\n",
    "```\n",
    "\n",
    "## Numpy\n",
    "> 用來訓練Tesseract"
   ]
  },
  {
   "cell_type": "code",
   "execution_count": null,
   "metadata": {},
   "outputs": [],
   "source": []
  }
 ],
 "metadata": {
  "kernelspec": {
   "display_name": "Python 3",
   "language": "python",
   "name": "python3"
  },
  "language_info": {
   "codemirror_mode": {
    "name": "ipython",
    "version": 3
   },
   "file_extension": ".py",
   "mimetype": "text/x-python",
   "name": "python",
   "nbconvert_exporter": "python",
   "pygments_lexer": "ipython3",
   "version": "3.6.1"
  }
 },
 "nbformat": 4,
 "nbformat_minor": 2
}
