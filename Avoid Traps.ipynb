{
 "cells": [
  {
   "cell_type": "markdown",
   "metadata": {},
   "source": [
    "# Headers\n",
    "\n",
    "#### 平常瀏覽器開啟的\n",
    "\n",
    "User-Agent: ```Mozilla/5.0 (Macintosh; Intel Mac OS X 10_12_6) AppleWebKit/604.5.6 (KHTML, like Gecko) Version/11.0.3 Safari/604.5.6```\n",
    "\n",
    "1. google \"my user agent\"\n",
    "2. https://developers.whatismybrowser.com/useragents/parse/?analyse-my-user-agent=yes\n",
    "\n",
    "#### 預設requests\n",
    "\n",
    "User-Agent: ```python-requests/2.18.4```\n",
    "\n",
    "所以我們要自訂User-Agent, 並以下面的網站做測試\n",
    "\n",
    "```python\n",
    "req = session.get(url, headers=headers)\n",
    "```\n",
    "\n",
    "---\n",
    "\n",
    "https://www.whatismybrowser.com\n",
    "- testing cookie\n",
    "- testing browser properties viewable by servers"
   ]
  },
  {
   "cell_type": "code",
   "execution_count": 2,
   "metadata": {},
   "outputs": [
    {
     "name": "stdout",
     "output_type": "stream",
     "text": [
      "<bound method Tag.get_text of <table class=\"table table-striped\">\n",
      "<tr>\n",
      "<th>ACCEPT</th>\n",
      "<td>*/*</td>\n",
      "</tr>\n",
      "<tr>\n",
      "<th>ACCEPT_ENCODING</th>\n",
      "<td>gzip, deflate</td>\n",
      "</tr>\n",
      "<tr>\n",
      "<th>CONNECTION</th>\n",
      "<td>keep-alive</td>\n",
      "</tr>\n",
      "<tr>\n",
      "<th>HOST</th>\n",
      "<td>www.whatismybrowser.com</td>\n",
      "</tr>\n",
      "<tr>\n",
      "<th>USER_AGENT</th>\n",
      "<td>python-requests/2.18.4</td>\n",
      "</tr>\n",
      "</table>>\n"
     ]
    }
   ],
   "source": [
    "import requests\n",
    "from bs4 import BeautifulSoup\n",
    "\n",
    "session = requests.Session()\n",
    "headers = {\"User-Agent\": \"Mozilla/5.0 (Macintosh; Intel Mac OS X 10_12_6) AppleWebKit/604.5.6 (KHTML, like Gecko) Version/11.0.3 Safari/604.5.6\",\n",
    "          \"Accept\": \"text/html, application/xhtml+xml, application/xml;q=0.9,image/webp,*/*;q=0.8\"}\n",
    "url = \"https://www.whatismybrowser.com/developers/what-http-headers-is-my-browser-sending\"\n",
    "req = session.get(url, headers=headers)  # 這邊傳入header就可以讓requests有自己的headers\n",
    "\n",
    "bs_obj = BeautifulSoup(req.text, \"lxml\")\n",
    "print(bs_obj.find(\"table\", {\"class\":\"table-striped\"}).get_text)"
   ]
  },
  {
   "cell_type": "markdown",
   "metadata": {},
   "source": [
    "Header裡的```Accept-Language```能改變網頁給你顯示的語言\n",
    "\n",
    "或是在User-Agent修改成手機版的\n",
    "\n",
    "---\n",
    "\n",
    "# Cookies\n",
    "\n",
    "Stay logged in on a site requires that holding cookie from page to page\n",
    "\n",
    "#### show how cookie are being set on that site\n",
    "\n",
    "https://chrome.google.com/webstore/detail/editthiscookie/fngmhnnpilhplaeedifhccceomclgfbg?hl=zh-TW\n",
    "\n",
    "#### Q: 因為requests沒辦法執行js, 所以一些cookie也沒辦法處理\n",
    "\n",
    "#### A: get cookie by selenium"
   ]
  },
  {
   "cell_type": "code",
   "execution_count": 3,
   "metadata": {},
   "outputs": [
    {
     "name": "stderr",
     "output_type": "stream",
     "text": [
      "/Library/Frameworks/Python.framework/Versions/3.6/lib/python3.6/site-packages/selenium/webdriver/phantomjs/webdriver.py:49: UserWarning: Selenium support for PhantomJS has been deprecated, please use headless versions of Chrome or Firefox instead\n",
      "  warnings.warn('Selenium support for PhantomJS has been deprecated, please use headless '\n"
     ]
    },
    {
     "name": "stdout",
     "output_type": "stream",
     "text": [
      "[{'domain': '.pythonscraping.com', 'expires': 'Wed, 07 Feb 2018 14:04:10 GMT', 'expiry': 1518012250, 'httponly': False, 'name': '_gat', 'path': '/', 'secure': False, 'value': '1'}, {'domain': '.pythonscraping.com', 'expires': 'Thu, 08 Feb 2018 14:03:10 GMT', 'expiry': 1518098590, 'httponly': False, 'name': '_gid', 'path': '/', 'secure': False, 'value': 'GA1.2.1259609983.1518012190'}, {'domain': '.pythonscraping.com', 'expires': 'Fri, 07 Feb 2020 14:03:10 GMT', 'expiry': 1581084190, 'httponly': False, 'name': '_ga', 'path': '/', 'secure': False, 'value': 'GA1.2.1377287464.1518012190'}, {'domain': 'pythonscraping.com', 'httponly': False, 'name': 'has_js', 'path': '/', 'secure': False, 'value': '1'}]\n"
     ]
    }
   ],
   "source": [
    "from selenium import webdriver\n",
    "driver = webdriver.PhantomJS(executable_path='./phantomjs/bin/phantomjs')\n",
    "driver.get(\"http://pythonscraping.com\")\n",
    "driver.implicitly_wait(1)\n",
    "print(driver.get_cookies())"
   ]
  },
  {
   "cell_type": "markdown",
   "metadata": {},
   "source": [
    "## Timing\n",
    "\n",
    "```time.sleep(3)```"
   ]
  },
  {
   "cell_type": "markdown",
   "metadata": {},
   "source": [
    "# Check List for blocking by websites\n",
    "\n",
    "1. 如果從server接收的資訊是(1)空白(2)遺失的資訊(3)你在瀏覽器看過 => 該頁面是js創造的 => selenium\n",
    "2. 如果要送出POST請求給頁面 => 使用Chrome’s Network inspector來檢查是否正確地送出\n",
    "3. 如果你試著登入該網站，卻沒辦法持續登入著 => 檢查cookie => 確保cookie在每個頁面載入的時候都能保存，且在每個請求都有送出給網站\n",
    "4. 403 Forbidden errors => 網站判別你的IP address是機器人，並不再接受任何請求:\n",
    "    \n",
    "#### 已被擋\n",
    "1. 等待自己的IP address從block list裡移出\n",
    "2. 用新的IP address\n",
    "\n",
    "#### 下次未被擋之前\n",
    "1. scraper不要爬太快, 設定delay\n",
    "2. 改變headers, 把User-Agent改成自己瀏覽器的\n",
    "3. 確保scraper沒有去點擊或存取人類通常做不的 => ref: Avoiding Honeypots"
   ]
  },
  {
   "cell_type": "code",
   "execution_count": null,
   "metadata": {},
   "outputs": [],
   "source": []
  }
 ],
 "metadata": {
  "kernelspec": {
   "display_name": "Python 3",
   "language": "python",
   "name": "python3"
  },
  "language_info": {
   "codemirror_mode": {
    "name": "ipython",
    "version": 3
   },
   "file_extension": ".py",
   "mimetype": "text/x-python",
   "name": "python",
   "nbconvert_exporter": "python",
   "pygments_lexer": "ipython3",
   "version": "3.6.1"
  }
 },
 "nbformat": 4,
 "nbformat_minor": 2
}
