{
 "cells": [
  {
   "cell_type": "markdown",
   "metadata": {},
   "source": [
    "# Access Information behind a login screen\n",
    "\n",
    "*POST* pushes information to a web server."
   ]
  },
  {
   "cell_type": "code",
   "execution_count": 5,
   "metadata": {},
   "outputs": [
    {
     "name": "stdout",
     "output_type": "stream",
     "text": [
      "Hello there, Edward Wang!\n"
     ]
    }
   ],
   "source": [
    "import requests\n",
    "\n",
    "param = {'firstname': 'Edward', 'lastname': 'Wang'}\n",
    "post_req = requests.post(\"http://pythonscraping.com/files/processing.php\", data=param)\n",
    "print(post_req.text)"
   ]
  },
  {
   "cell_type": "code",
   "execution_count": null,
   "metadata": {},
   "outputs": [],
   "source": []
  },
  {
   "cell_type": "markdown",
   "metadata": {},
   "source": [
    "## Login and Cookie with requests\n",
    "\n",
    "> Websites use cookies to keep track of who is logged in, once a site authenticates your login credentials a it stores in your browser a cookie"
   ]
  },
  {
   "cell_type": "code",
   "execution_count": 2,
   "metadata": {},
   "outputs": [
    {
     "name": "stdout",
     "output_type": "stream",
     "text": [
      "Cookie is set to:\n",
      "{'loggedin': '1', 'username': 'Ed'}\n",
      "-----------\n",
      "Going to profile page...\n",
      "Hey Ed! Looks like you're still logged into the site!\n"
     ]
    }
   ],
   "source": [
    "import requests\n",
    "\n",
    "param = {'username': 'Ed', 'password': 'password'}\n",
    "post_request = requests.post('http://pythonscraping.com/pages/cookies/welcome.php', param)\n",
    "print(\"Cookie is set to:\")\n",
    "print(post_request.cookies.get_dict())\n",
    "print(\"-----------\")\n",
    "print(\"Going to profile page...\")\n",
    "get_request = requests.get('http://pythonscraping.com/pages/cookies/profile.php', cookies=post_request.cookies)\n",
    "print(get_request.text)"
   ]
  },
  {
   "cell_type": "markdown",
   "metadata": {},
   "source": [
    "#### Session\n",
    "\n",
    "- 使用session的話就不須一直傳入之前request的cookie\n",
    "- session會保存cookies, headers..."
   ]
  },
  {
   "cell_type": "code",
   "execution_count": 4,
   "metadata": {},
   "outputs": [
    {
     "name": "stdout",
     "output_type": "stream",
     "text": [
      "Cookie is set to:\n",
      "{'loggedin': '1', 'username': 'Ed'}\n",
      "-----------\n",
      "Going to profile page...\n",
      "Hey Ed! Looks like you're still logged into the site!\n"
     ]
    }
   ],
   "source": [
    "session = requests.Session()\n",
    "param = {'username': 'Ed', 'password': 'password'}\n",
    "post_session = session.post('http://pythonscraping.com/pages/cookies/welcome.php', param)\n",
    "print(\"Cookie is set to:\")\n",
    "print(post_session.cookies.get_dict())\n",
    "print(\"-----------\")\n",
    "print(\"Going to profile page...\")\n",
    "s = session.get(\"http://pythonscraping.com/pages/cookies/profile.php\")\n",
    "print(s.text)"
   ]
  },
  {
   "cell_type": "code",
   "execution_count": null,
   "metadata": {},
   "outputs": [],
   "source": []
  }
 ],
 "metadata": {
  "kernelspec": {
   "display_name": "Python 3",
   "language": "python",
   "name": "python3"
  },
  "language_info": {
   "codemirror_mode": {
    "name": "ipython",
    "version": 3
   },
   "file_extension": ".py",
   "mimetype": "text/x-python",
   "name": "python",
   "nbconvert_exporter": "python",
   "pygments_lexer": "ipython3",
   "version": "3.6.1"
  }
 },
 "nbformat": 4,
 "nbformat_minor": 2
}
